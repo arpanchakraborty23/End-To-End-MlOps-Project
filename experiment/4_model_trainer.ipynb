{
 "cells": [
  {
   "cell_type": "code",
   "execution_count": 2,
   "metadata": {},
   "outputs": [],
   "source": [
    "import os"
   ]
  },
  {
   "cell_type": "code",
   "execution_count": 3,
   "metadata": {},
   "outputs": [],
   "source": [
    "os.chdir('../')"
   ]
  },
  {
   "cell_type": "code",
   "execution_count": 4,
   "metadata": {},
   "outputs": [
    {
     "data": {
      "text/plain": [
       "'d:\\\\MLOPS\\\\End-To-End-MlOps-Project'"
      ]
     },
     "execution_count": 4,
     "metadata": {},
     "output_type": "execute_result"
    }
   ],
   "source": [
    "%pwd"
   ]
  },
  {
   "cell_type": "code",
   "execution_count": 5,
   "metadata": {},
   "outputs": [],
   "source": [
    "from dataclasses import dataclass\n",
    "from pathlib import Path"
   ]
  },
  {
   "cell_type": "code",
   "execution_count": 19,
   "metadata": {},
   "outputs": [],
   "source": [
    "@dataclass\n",
    "class ModelTrainConfig:\n",
    "   dir:Path\n",
    "   train_arr: Path\n",
    "   test_arr: Path\n",
    "   model:  Path\n",
    "   n_estimators: int\n",
    "   max_depth: int\n",
    "   min_samples_split:int\n",
    "   min_samples_leaf:int"
   ]
  },
  {
   "cell_type": "code",
   "execution_count": 7,
   "metadata": {},
   "outputs": [],
   "source": [
    "from src.ds.utils.utils import create_dir,read_yaml\n",
    "from src.ds.constants.yaml_path import *\n",
    "from src.ds import logging"
   ]
  },
  {
   "cell_type": "code",
   "execution_count": 30,
   "metadata": {},
   "outputs": [],
   "source": [
    "class ConfigManager:\n",
    "    def __init__(self,config_file_path=Config_file_path,prams_file_path=Param_file_path,schema_file_path=Schema_file_path) -> None:\n",
    "        self.config=read_yaml(config_file_path)\n",
    "        self.params=read_yaml(prams_file_path)\n",
    "        self.schema=read_yaml(schema_file_path)\n",
    "\n",
    "        create_dir([self.config.artifacts_root])\n",
    "    def get_model_trainer_config(self):\n",
    "      try:\n",
    "         config=self.config.Model_Trainer\n",
    "         params=self.params.RandomForestClassifier\n",
    "         create_dir([config.dir])\n",
    "         model_train_config=ModelTrainConfig(\n",
    "               dir=config.dir,\n",
    "               train_arr=config.train_arr,\n",
    "               test_arr=config.test_arr,\n",
    "               model=config.model,\n",
    "               n_estimators=params.n_estimators,\n",
    "               max_depth=params.max_depth,\n",
    "               min_samples_leaf=params.min_samples_leaf,\n",
    "               min_samples_split=params.min_samples_split\n",
    "\t\t\t)\n",
    "         return model_train_config\n",
    "      except Exception as e:\n",
    "         logging.info(f'error in MODEL TRAIN config {str(e)}')\n",
    "         raise e"
   ]
  },
  {
   "cell_type": "code",
   "execution_count": 38,
   "metadata": {},
   "outputs": [],
   "source": [
    "import joblib\n",
    "import numpy as np\n",
    "from src.ds.utils.utils import model_evaluatuion,save_obj\n",
    "from sklearn.ensemble import RandomForestClassifier\n",
    "from sklearn.metrics import accuracy_score,classification_report"
   ]
  },
  {
   "cell_type": "code",
   "execution_count": 39,
   "metadata": {},
   "outputs": [],
   "source": [
    "class ModelTrainer:\n",
    "    def __init__(self, config):\n",
    "        self.config = config\n",
    "\n",
    "    def initiate_model_training(self):\n",
    "        try:\n",
    "            # Load data\n",
    "            train_array = np.load(self.config.train_arr,allow_pickle=True)\n",
    "            test_array = np.load(self.config.test_arr,allow_pickle=True)\n",
    "            logging.info('Array data loaded')\n",
    "\n",
    "            # Split data into features and target\n",
    "            x_train, y_train = train_array[:, :-1], train_array[:, -1]\n",
    "            x_test, y_test = test_array[:, :-1], test_array[:, -1]\n",
    "\n",
    "            # Initialize and train model\n",
    "            model = RandomForestClassifier(\n",
    "                n_estimators=self.config.n_estimators,\n",
    "                min_samples_leaf=self.config.min_samples_leaf,\n",
    "                max_depth=self.config.max_depth,\n",
    "                min_samples_split=self.config.min_samples_split\n",
    "            )\n",
    "            model.fit(x_train, y_train)\n",
    "\n",
    "            # Predict and calculate accuracy\n",
    "            y_pred = model.predict(x_test)\n",
    "            accuracy = accuracy_score(y_test, y_pred)\n",
    "            print(f'{model} model accuracy: {accuracy}')\n",
    "\n",
    "            # Save the model\n",
    "            save_obj(\n",
    "                file_path=self.config.model,\n",
    "                obj=model\n",
    "\t\t\t\t)\n",
    "            logging.info('Model saved successfully')\n",
    "\n",
    "        except Exception as e:\n",
    "            logging.info(f'Error in model training: {str(e)}')\n",
    "            raise e"
   ]
  },
  {
   "cell_type": "code",
   "execution_count": 41,
   "metadata": {},
   "outputs": [
    {
     "name": "stdout",
     "output_type": "stream",
     "text": [
      "[2024-11-06 17:43:46,412: INFO :utils : Yaml file config\\config.yaml created]\n",
      "[2024-11-06 17:43:46,422: INFO :utils : Yaml file params.yaml created]\n",
      "[2024-11-06 17:43:46,430: INFO :utils : Yaml file schema.yaml created]\n",
      "[2024-11-06 17:43:46,432: INFO :utils : created directory at: artifacts]\n",
      "[2024-11-06 17:43:46,435: INFO :utils : created directory at: artifacts/model_Trainer]\n",
      "[2024-11-06 17:43:46,442: INFO :3824806231 : Array data loaded]\n",
      "RandomForestClassifier(max_depth=10, min_samples_leaf=3, min_samples_split=5,\n",
      "                       n_estimators=300) model accuracy: 0.81875\n",
      "[2024-11-06 17:43:47,089: INFO :3824806231 : Model saved successfully]\n"
     ]
    }
   ],
   "source": [
    "try:\n",
    "\t\tconfig=ConfigManager()\n",
    "\t\tmodel_trainer_config=config.get_model_trainer_config()\n",
    "\t\tmodel_trainer=ModelTrainer(config=model_trainer_config)\n",
    "\t\tmodel_trainer.initiate_model_training()\n",
    "except Exception as e:\n",
    "         logging.info('error')"
   ]
  },
  {
   "cell_type": "code",
   "execution_count": null,
   "metadata": {},
   "outputs": [],
   "source": []
  },
  {
   "cell_type": "code",
   "execution_count": null,
   "metadata": {},
   "outputs": [],
   "source": []
  }
 ],
 "metadata": {
  "kernelspec": {
   "display_name": "Python 3",
   "language": "python",
   "name": "python3"
  },
  "language_info": {
   "codemirror_mode": {
    "name": "ipython",
    "version": 3
   },
   "file_extension": ".py",
   "mimetype": "text/x-python",
   "name": "python",
   "nbconvert_exporter": "python",
   "pygments_lexer": "ipython3",
   "version": "3.11.0"
  }
 },
 "nbformat": 4,
 "nbformat_minor": 2
}
