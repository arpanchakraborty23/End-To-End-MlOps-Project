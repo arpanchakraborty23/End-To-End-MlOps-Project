{
 "cells": [
  {
   "cell_type": "code",
   "execution_count": 3,
   "metadata": {},
   "outputs": [],
   "source": [
    "import os"
   ]
  },
  {
   "cell_type": "code",
   "execution_count": 4,
   "metadata": {},
   "outputs": [],
   "source": [
    "os.chdir('../')"
   ]
  },
  {
   "cell_type": "code",
   "execution_count": 5,
   "metadata": {},
   "outputs": [
    {
     "data": {
      "text/plain": [
       "'d:\\\\MLOPS\\\\End-To-End-MlOps-Project'"
      ]
     },
     "execution_count": 5,
     "metadata": {},
     "output_type": "execute_result"
    }
   ],
   "source": [
    "%pwd"
   ]
  },
  {
   "cell_type": "code",
   "execution_count": 6,
   "metadata": {},
   "outputs": [],
   "source": [
    "from dataclasses import dataclass\n",
    "from pathlib import Path"
   ]
  },
  {
   "cell_type": "code",
   "execution_count": 7,
   "metadata": {},
   "outputs": [],
   "source": [
    "@dataclass\n",
    "class DataTransformationConfig:\n",
    "   dir: Path\n",
    "   unzip_dir: Path\n",
    "   train_arr: Path\n",
    "   test_arr: Path\n",
    "   target_col: str\n",
    "   preprocess_obj: Path"
   ]
  },
  {
   "cell_type": "code",
   "execution_count": 8,
   "metadata": {},
   "outputs": [],
   "source": [
    "from src.ds import logging\n",
    "from src.ds.utils.utils import read_yaml,create_dir\n",
    "from src.ds.constants.yaml_path import *"
   ]
  },
  {
   "cell_type": "code",
   "execution_count": 9,
   "metadata": {},
   "outputs": [],
   "source": [
    "class ConfigManager:\n",
    "    def __init__(self,config_file_path=Config_file_path,prams_file_path=Param_file_path,schema_file_path=Schema_file_path) -> None:\n",
    "        self.config=read_yaml(config_file_path)\n",
    "        self.params=read_yaml(prams_file_path)\n",
    "        self.schema=read_yaml(schema_file_path)\n",
    "\n",
    "        create_dir([self.config.artifacts_root])\n",
    "    def get_transformation_config(self) -> DataTransformationConfig:\n",
    "      try:\n",
    "            config=self.config.Data_Transformation\n",
    "            create_dir([config.dir])\n",
    "            transformation_config=DataTransformationConfig(\n",
    "                dir=config.dir,\n",
    "                unzip_dir=config.unzip_dir,\n",
    "                train_arr=config.train_arr,\n",
    "                test_arr=config.test_arr,\n",
    "                target_col=self.schema.TARGET_COLUMN,\n",
    "                preprocess_obj=config.preprocess_obj\n",
    "\t\t\t\t)\t\n",
    "            return transformation_config\n",
    "      except Exception as e:\n",
    "         logging.info(f'Error in Transformation config: {str(e)}')\n",
    "         raise e"
   ]
  },
  {
   "cell_type": "code",
   "execution_count": 10,
   "metadata": {},
   "outputs": [],
   "source": [
    "import pandas as pd\n",
    "import numpy as np\n",
    "from sklearn.model_selection import train_test_split\n",
    "from sklearn.impute import SimpleImputer\n",
    "from sklearn.preprocessing import RobustScaler,OneHotEncoder\n",
    "from sklearn.pipeline import Pipeline\n",
    "from sklearn.compose import ColumnTransformer"
   ]
  },
  {
   "cell_type": "code",
   "execution_count": 11,
   "metadata": {},
   "outputs": [],
   "source": [
    "from src.ds.utils.utils import save_obj"
   ]
  },
  {
   "cell_type": "code",
   "execution_count": 12,
   "metadata": {},
   "outputs": [],
   "source": [
    "\n",
    "class DataTransformation:\n",
    "   def __init__(self,config:DataTransformationConfig) -> None:\n",
    "         self.config=config\n",
    "   def get_preprocess_obj(self):\n",
    "      try:\n",
    "         num_col=['ssc_percentage', 'hsc_percentage', 'degree_percentage','emp_test_percentage', 'mba_percent']\n",
    "         cate_cols=['gender', 'ssc_board', 'hsc_board', 'hsc_subject', 'undergrad_degree','work_experience', 'specialisation']\n",
    "         gender_cate = ['M', 'F']\n",
    "         ssc_board_cate = ['Central', 'Others']\n",
    "         hsc_board_cate = ['Others', 'Central']\n",
    "         hsc_subject_cate = ['Commerce', 'Science', 'Arts']\n",
    "         undergrad_degree_cate = ['Comm&Mgmt', 'Sci&Tech', 'Others']\n",
    "         work_experience_cate = ['No', 'Yes']\n",
    "         specialisation_cate = ['Mkt&Fin', 'Mkt&HR']\n",
    "\n",
    "         num_col_pipline=Pipeline(\n",
    "\t\t\t\tsteps=[\n",
    "\t\t\t\t\t('Impute',SimpleImputer(strategy='mean')),\n",
    "\t\t\t\t\t('scaling',RobustScaler())\n",
    "\t\t\t\t]\n",
    "\t\t\t)\n",
    "         \n",
    "         cate_cols_pipline = Pipeline(\n",
    "\t\t\t\tsteps=[\n",
    "\t\t\t\t\t('Impute', SimpleImputer(strategy='most_frequent')),\n",
    "\t\t\t\t\t('encoding', OneHotEncoder(categories=[\n",
    "\t\t\t\t\t\tgender_cate, ssc_board_cate, hsc_board_cate, hsc_subject_cate,\n",
    "\t\t\t\t\t\tundergrad_degree_cate, work_experience_cate, specialisation_cate\n",
    "\t\t\t\t\t], handle_unknown='ignore'))\n",
    "\t\t\t\t]\n",
    "\t\t\t)\n",
    "         \n",
    "         preprocess=ColumnTransformer([\n",
    "\t\t\t\t('num_col_pipline',num_col_pipline,num_col),\n",
    "\t\t\t\t('cate_cols_pipline',cate_cols_pipline,cate_cols)\n",
    "\t\t\t])\n",
    "         \n",
    "         logging.info('Data transformation preprocess obj created')\n",
    "\n",
    "         return preprocess\n",
    "      except Exception as e:\n",
    "         logging.info(f'Error in Transformation preprocess obj: {str(e)}')\n",
    "         raise e\n",
    "   def transforming_data(self):\n",
    "      try:\n",
    "         data=pd.read_csv(self.config.unzip_dir)\n",
    "\n",
    "         print(data.head())\n",
    "\n",
    "         logging.info('data retrive successfully')\n",
    "\n",
    "         x=data.drop(self.config.target_col,axis=1)\n",
    "         y=data[self.config.target_col]\n",
    "\n",
    "         x_train,x_test,y_train,y_test=train_test_split(x,y,train_size=0.26,random_state=50)\n",
    "\n",
    "         preprocess_obj=self.get_preprocess_obj()\n",
    "\n",
    "         x_train=preprocess_obj.fit_transform(x_train)\n",
    "         x_test=preprocess_obj.transform(x_test)\n",
    "\n",
    "\n",
    "         logging.info('data preprocess completed')\n",
    "\n",
    "         train_arr=np.c_[x_train,np.array(y_train)]\n",
    "         test_arr=np.c_[x_test,np.array(y_test)]\n",
    "\n",
    "         np.save(self.config.train_arr,train_arr)\n",
    "\n",
    "      \n",
    "         np.save(self.config.test_arr,test_arr)\n",
    "         logging.info('preprocess data save completed')\n",
    "\n",
    "         save_obj(\n",
    "                            file_path=self.config.preprocess_obj,\n",
    "                            obj=preprocess_obj\n",
    "\t\t\t)\n",
    "         logging.info('preprocess object save completed')\n",
    "\n",
    "         return (\n",
    "                train_arr,\n",
    "                test_arr\n",
    "               )\n",
    "      except Exception as e:\n",
    "         logging.info(f'Error in Data Transformation : {str(e)}')\n",
    "         raise e\n",
    "          "
   ]
  },
  {
   "cell_type": "code",
   "execution_count": 13,
   "metadata": {},
   "outputs": [
    {
     "name": "stdout",
     "output_type": "stream",
     "text": [
      "[2024-11-06 13:41:29,811: INFO :utils : Yaml file config\\config.yaml created]\n",
      "[2024-11-06 13:41:29,816: INFO :utils : Yaml file params.yaml created]\n",
      "[2024-11-06 13:41:29,825: INFO :utils : Yaml file schema.yaml created]\n",
      "[2024-11-06 13:41:29,828: INFO :utils : created directory at: artifacts]\n",
      "[2024-11-06 13:41:29,831: INFO :utils : created directory at: artifacts/data_transformation]\n",
      "[2024-11-06 13:41:29,833: INFO :3194053651 : Data transformation preprocess obj created]\n"
     ]
    }
   ],
   "source": [
    "try:\n",
    "\t\tconfig=ConfigManager()\n",
    "\t\tdata_transformation_config=config.get_transformation_config()\n",
    "\t\tdata_transformation=DataTransformation(config=data_transformation_config)\n",
    "\t\tdata_transformation.get_preprocess_obj()\n",
    "except Exception as e:\n",
    "         logging.info('error')"
   ]
  },
  {
   "cell_type": "code",
   "execution_count": null,
   "metadata": {},
   "outputs": [],
   "source": []
  }
 ],
 "metadata": {
  "kernelspec": {
   "display_name": "Python 3",
   "language": "python",
   "name": "python3"
  },
  "language_info": {
   "codemirror_mode": {
    "name": "ipython",
    "version": 3
   },
   "file_extension": ".py",
   "mimetype": "text/x-python",
   "name": "python",
   "nbconvert_exporter": "python",
   "pygments_lexer": "ipython3",
   "version": "3.11.0"
  }
 },
 "nbformat": 4,
 "nbformat_minor": 2
}
