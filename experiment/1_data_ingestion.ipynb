{
 "cells": [
  {
   "cell_type": "code",
   "execution_count": 1,
   "metadata": {},
   "outputs": [],
   "source": [
    "import os"
   ]
  },
  {
   "cell_type": "code",
   "execution_count": 2,
   "metadata": {},
   "outputs": [
    {
     "data": {
      "text/plain": [
       "'d:\\\\MLOPS\\\\End-To-End-MlOps-Project\\\\experiment'"
      ]
     },
     "execution_count": 2,
     "metadata": {},
     "output_type": "execute_result"
    }
   ],
   "source": [
    "%pwd"
   ]
  },
  {
   "cell_type": "code",
   "execution_count": 3,
   "metadata": {},
   "outputs": [],
   "source": [
    "os.chdir('../')"
   ]
  },
  {
   "cell_type": "code",
   "execution_count": 4,
   "metadata": {},
   "outputs": [
    {
     "data": {
      "text/plain": [
       "'d:\\\\MLOPS\\\\End-To-End-MlOps-Project'"
      ]
     },
     "execution_count": 4,
     "metadata": {},
     "output_type": "execute_result"
    }
   ],
   "source": [
    "%pwd"
   ]
  },
  {
   "cell_type": "code",
   "execution_count": 5,
   "metadata": {},
   "outputs": [],
   "source": [
    "from dataclasses import dataclass\n",
    "from pathlib import Path\n",
    "\n",
    "\n",
    "@dataclass\n",
    "class DataIngestionConfig:\n",
    "    dir: Path\n",
    "    url: Path\n",
    "    local_dir: Path\n",
    "    unzip_dir: Path"
   ]
  },
  {
   "cell_type": "code",
   "execution_count": null,
   "metadata": {},
   "outputs": [],
   "source": [
    "from src.dsproject.utils.utils import read_yaml, create_dir"
   ]
  },
  {
   "cell_type": "code",
   "execution_count": null,
   "metadata": {},
   "outputs": [],
   "source": [
    "from src.dsproject.constants.yaml_path import Config_file_path,Schema_file_path,Param_file_path"
   ]
  },
  {
   "cell_type": "code",
   "execution_count": null,
   "metadata": {},
   "outputs": [],
   "source": [
    "from src.dsproject import logging\n",
    "import requests"
   ]
  },
  {
   "cell_type": "code",
   "execution_count": 16,
   "metadata": {},
   "outputs": [],
   "source": [
    "class ConfigManager:\n",
    "    def __init__(self,config_file_path=Config_file_path,prams_file_path=Param_file_path,schema_file_path=Schema_file_path) -> None:\n",
    "        self.config=read_yaml(config_file_path)\n",
    "        self.params=read_yaml(prams_file_path)\n",
    "        self.schema=read_yaml(schema_file_path)\n",
    "\n",
    "        create_dir([self.config.artifacts_root])\n",
    "    \n",
    "    def get_data_ingestion_config(self):\n",
    "        try:\n",
    "            config = self.config.Data_Ingestion\n",
    "            data_ingestion_config = DataIngestionConfig(\n",
    "                dir=config.dir,\n",
    "                url=config.url,\n",
    "                local_dir=config.local_dir,\n",
    "                unzip_dir=config.unzip_dir\n",
    "            )\n",
    "            return data_ingestion_config\n",
    "        except Exception as e:\n",
    "            logging.info('error in data ingestion config', str(e))\n",
    "            raise e"
   ]
  },
  {
   "cell_type": "code",
   "execution_count": 17,
   "metadata": {},
   "outputs": [],
   "source": [
    "import zipfile\n",
    "import urllib.request as rq"
   ]
  },
  {
   "cell_type": "code",
   "execution_count": null,
   "metadata": {},
   "outputs": [],
   "source": [
    "import os\n",
    "import requests\n",
    "import zipfile\n",
    "from src.dsproject.entity.config_entity import DataIngestionConfig\n",
    "from src.dsproject import logging\n",
    "\n",
    "class DataIngestion:\n",
    "    def __init__(self, config=DataIngestionConfig) -> None:\n",
    "        \"\"\"\n",
    "        Initializes the DataIngestion class with configuration settings.\n",
    "        \"\"\"\n",
    "        self.config = config\n",
    "        logging.info('************************* Data Ingestion **************************')\n",
    "\n",
    "    def download_data(self):\n",
    "        \"\"\"\n",
    "        Downloads data from the specified URL in the config and saves it locally.\n",
    "        \"\"\"\n",
    "        try:\n",
    "            data_url = self.config.url\n",
    "            download_file_path = os.path.join(self.config.local_dir, 'data.zip')\n",
    "            \n",
    "            # Create a local data folder if it doesn't exist\n",
    "            os.makedirs(self.config.local_dir, exist_ok=True)\n",
    "            \n",
    "            # Download the data\n",
    "            response = requests.get(data_url)\n",
    "            if response.status_code == 200:\n",
    "                logging.info('Data download completed')\n",
    "            else:\n",
    "                logging.error('Failed to download data: Status code {}'.format(response.status_code))\n",
    "                return\n",
    "\n",
    "            # Save data to file\n",
    "            with open(download_file_path, 'wb') as f:\n",
    "                f.write(response.content)\n",
    "            logging.info(\"Data saved successfully at {}\".format(download_file_path))\n",
    "        \n",
    "        except Exception as e:\n",
    "            logging.error('Error in data ingestion during download: {}'.format(str(e)))\n",
    "            raise e\n",
    "\n",
    "    def extract_data(self):\n",
    "        \"\"\"\n",
    "        Extracts the downloaded ZIP data file into the specified directory.\n",
    "        \"\"\"\n",
    "        try:\n",
    "            download_file_path = os.path.join(self.config.local_dir, 'data.zip')\n",
    "            unzip_dir = self.config.unzip_dir\n",
    "\n",
    "            # Create an unzip directory if it doesn't exist\n",
    "            os.makedirs(unzip_dir, exist_ok=True)\n",
    "\n",
    "            # Unzip the downloaded file\n",
    "            with zipfile.ZipFile(download_file_path, 'r') as zip_ref:\n",
    "                zip_ref.extractall(unzip_dir)\n",
    "            logging.info('Data unzip completed in {}'.format(unzip_dir))\n",
    "\n",
    "        except zipfile.BadZipFile:\n",
    "            logging.error('Failed to unzip file: BadZipFile error')\n",
    "            raise\n",
    "        except Exception as e:\n",
    "            logging.error('Error in data ingestion during extraction: {}'.format(str(e)))\n",
    "            raise e\n"
   ]
  },
  {
   "cell_type": "code",
   "execution_count": 19,
   "metadata": {},
   "outputs": [
    {
     "name": "stdout",
     "output_type": "stream",
     "text": [
      "[2024-11-05 13:45:03,854: INFO :utils : Yaml file config\\config.yaml created]\n",
      "[2024-11-05 13:45:03,858: INFO :utils : Yaml file params.yaml created]\n",
      "[2024-11-05 13:45:03,862: INFO :utils : Yaml file schema.yaml created]\n",
      "[2024-11-05 13:45:03,866: INFO :utils : created directory at: artifacts]\n",
      "[2024-11-05 13:45:03,867: INFO :695794688 : ************************* Data Ingestion **************************]\n",
      "[2024-11-05 13:45:04,526: INFO :695794688 : Data download completed]\n",
      "[2024-11-05 13:45:04,537: INFO :695794688 : Data saved successfully at artifacts/data_ingestion/data.zip\\data.zip]\n",
      "[2024-11-05 13:45:04,572: INFO :695794688 : Data unzip completed in artifacts/data_ingestion/data]\n"
     ]
    }
   ],
   "source": [
    "try:\n",
    "\t\tconfig=ConfigManager()\n",
    "\t\tdata_ingestion_config=config.get_data_ingestion_config()\n",
    "\t\tdata_ingestion=DataIngestion(config=data_ingestion_config)\n",
    "\t\tdata_ingestion.download_data()\n",
    "\t\tdata_ingestion.extract_data()\n",
    "except Exception as e:\n",
    "         logging.info('error in data ingestion',str(e))\n",
    "         raise e"
   ]
  },
  {
   "cell_type": "code",
   "execution_count": null,
   "metadata": {},
   "outputs": [],
   "source": []
  }
 ],
 "metadata": {
  "kernelspec": {
   "display_name": "Python 3",
   "language": "python",
   "name": "python3"
  },
  "language_info": {
   "codemirror_mode": {
    "name": "ipython",
    "version": 3
   },
   "file_extension": ".py",
   "mimetype": "text/x-python",
   "name": "python",
   "nbconvert_exporter": "python",
   "pygments_lexer": "ipython3",
   "version": "3.11.0"
  }
 },
 "nbformat": 4,
 "nbformat_minor": 2
}
