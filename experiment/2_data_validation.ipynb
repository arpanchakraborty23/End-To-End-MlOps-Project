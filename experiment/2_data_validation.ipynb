{
 "cells": [
  {
   "cell_type": "code",
   "execution_count": 1,
   "metadata": {},
   "outputs": [],
   "source": [
    "import os"
   ]
  },
  {
   "cell_type": "code",
   "execution_count": 2,
   "metadata": {},
   "outputs": [],
   "source": [
    "os.chdir('../')"
   ]
  },
  {
   "cell_type": "code",
   "execution_count": 3,
   "metadata": {},
   "outputs": [
    {
     "data": {
      "text/plain": [
       "'d:\\\\MLOPS\\\\End-To-End-MlOps-Project'"
      ]
     },
     "execution_count": 3,
     "metadata": {},
     "output_type": "execute_result"
    }
   ],
   "source": [
    "%pwd"
   ]
  },
  {
   "cell_type": "code",
   "execution_count": 4,
   "metadata": {},
   "outputs": [],
   "source": [
    "from dataclasses import dataclass\n",
    "from pathlib import Path"
   ]
  },
  {
   "cell_type": "code",
   "execution_count": 5,
   "metadata": {},
   "outputs": [],
   "source": [
    "@dataclass\n",
    "class DataValidationConfig:\n",
    "   dir: Path\n",
    "   unzip_dir: Path\n",
    "   status: str\n",
    "   all_schema: dict"
   ]
  },
  {
   "cell_type": "code",
   "execution_count": null,
   "metadata": {},
   "outputs": [],
   "source": [
    "from src.dsproject.utils.utils import create_dir,read_yaml\n",
    "from src.dsproject.constants.yaml_path import *\n",
    "from src.dsproject import logging"
   ]
  },
  {
   "cell_type": "code",
   "execution_count": 7,
   "metadata": {},
   "outputs": [],
   "source": [
    "class ConfigManager:\n",
    "    def __init__(self,config_file_path=Config_file_path,prams_file_path=Param_file_path,schema_file_path=Schema_file_path) -> None:\n",
    "        self.config=read_yaml(config_file_path)\n",
    "        self.params=read_yaml(prams_file_path)\n",
    "        self.schema=read_yaml(schema_file_path)\n",
    "\n",
    "        create_dir([self.config.artifacts_root])\n",
    "    def get_data_val_config(self):\n",
    "      try:\n",
    "         config=self.config.Data_Validation\n",
    "         create_dir([config.dir])\n",
    "         data_val_config=DataValidationConfig(\n",
    "               dir=config.dir,\n",
    "               unzip_dir=config.unzip_dir,\n",
    "               status=config.status,\n",
    "               all_schema=self.schema.COLUMNNS\n",
    "\t\t\t)\n",
    "         return data_val_config\n",
    "      except Exception as e:\n",
    "         logging.info(f'error in validation config {str(e)}')\n",
    "         raise e"
   ]
  },
  {
   "cell_type": "code",
   "execution_count": 8,
   "metadata": {},
   "outputs": [],
   "source": [
    "import pandas as pd"
   ]
  },
  {
   "cell_type": "code",
   "execution_count": 9,
   "metadata": {},
   "outputs": [],
   "source": [
    "class DataValidation:\n",
    "   def __init__(self,config:DataValidationConfig) -> None:\n",
    "      self.config=config\n",
    "      logging.info('************************* Data Validation **************************')\n",
    "   def validate_all_columns(self) -> bool:\n",
    "      try:\n",
    "         validation_status=None\n",
    "         data_path=self.config.unzip_dir\n",
    "         print(data_path)\n",
    "         data=pd.read_csv(self.config.unzip_dir)\n",
    "      \n",
    "         all_cols=list(data.columns)\n",
    "         print(all_cols)\n",
    "         all_schema=self.config.all_schema.keys()\n",
    "         print(f'all schema: {all_schema}')\n",
    "         for col in all_cols:\n",
    "            if col not in all_schema:\n",
    "               validation_status=False\n",
    "               with open(self.config.status,'w') as f:\n",
    "                  f.write(f' Validation Status : {validation_status}')\n",
    "            else:\n",
    "               validation_status= True\n",
    "               with open(self.config.status,'w') as f:\n",
    "                  f.write(f' Validation Status : {validation_status}')\n",
    "         return validation_status\n",
    "      except Exception as e:\n",
    "         logging.info(f'error in validation {str(e)}')\n",
    "         raise e"
   ]
  },
  {
   "cell_type": "code",
   "execution_count": 10,
   "metadata": {},
   "outputs": [
    {
     "name": "stdout",
     "output_type": "stream",
     "text": [
      "[2024-11-06 08:46:23,673: INFO :utils : Yaml file config\\config.yaml created]\n",
      "[2024-11-06 08:46:23,680: INFO :utils : Yaml file params.yaml created]\n",
      "[2024-11-06 08:46:23,693: INFO :utils : Yaml file schema.yaml created]\n",
      "[2024-11-06 08:46:23,699: INFO :utils : created directory at: artifacts]\n",
      "[2024-11-06 08:46:23,706: INFO :utils : created directory at: artifacts/data_validation]\n",
      "[2024-11-06 08:46:23,709: INFO :4123187600 : ************************* Data Validation **************************]\n",
      "artifacts\\data_ingestion\\data\\Job_Placement_Data.csv\n",
      "['gender', 'ssc_percentage', 'ssc_board', 'hsc_percentage', 'hsc_board', 'hsc_subject', 'degree_percentage', 'undergrad_degree', 'work_experience', 'emp_test_percentage', 'specialisation', 'mba_percent', 'status']\n",
      "all schema: dict_keys(['gender', 'ssc_percentage', 'ssc_board', 'hsc_percentage', 'hsc_board', 'hsc_subject', 'degree_percentage', 'undergrad_degree', 'work_experience', 'emp_test_percentage', 'specialisation', 'mba_percent', 'status'])\n"
     ]
    }
   ],
   "source": [
    "try:\n",
    "\t\tconfig=ConfigManager()\n",
    "\t\tdata_validation_config=config.get_data_val_config()\n",
    "\t\tdata_validation=DataValidation(config=data_validation_config)\n",
    "\t\tdata_validation.validate_all_columns()\n",
    "except Exception as e:\n",
    "         logging.info('error in data validation',str(e))\n",
    "         raise e"
   ]
  },
  {
   "cell_type": "code",
   "execution_count": null,
   "metadata": {},
   "outputs": [],
   "source": []
  }
 ],
 "metadata": {
  "kernelspec": {
   "display_name": "Python 3",
   "language": "python",
   "name": "python3"
  },
  "language_info": {
   "codemirror_mode": {
    "name": "ipython",
    "version": 3
   },
   "file_extension": ".py",
   "mimetype": "text/x-python",
   "name": "python",
   "nbconvert_exporter": "python",
   "pygments_lexer": "ipython3",
   "version": "3.11.0"
  }
 },
 "nbformat": 4,
 "nbformat_minor": 2
}
